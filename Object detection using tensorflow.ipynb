{
 "cells": [
  {
   "cell_type": "code",
   "execution_count": null,
   "id": "366e572a-3ada-45f3-82f4-4d0d0dc89f72",
   "metadata": {},
   "outputs": [],
   "source": [
    "Creating an Object Detection Project using TensorFlow is a great way to explore computer vision and deep learning. Here's a basic overview and guide to help you structure your project.\n",
    "\n"
   ]
  },
  {
   "cell_type": "code",
   "execution_count": null,
   "id": "8139c6c0-aff9-40e5-a6e4-cc63124adb77",
   "metadata": {},
   "outputs": [],
   "source": [
    " Project Goals\n",
    "Detect and classify objects in images/video.\n",
    "\n",
    "Use a pre-trained model or train a custom model on a labeled dataset."
   ]
  },
  {
   "cell_type": "code",
   "execution_count": null,
   "id": "7108b83a-34ea-4ac2-a2bc-45e22571776d",
   "metadata": {},
   "outputs": [],
   "source": [
    "Tools and Technologies\n",
    "Programming Language: Python\n",
    "\n",
    "Framework: TensorFlow (with TensorFlow Object Detection API)\n",
    "\n",
    "Other Libraries: OpenCV, NumPy, Matplotlib\n",
    "\n",
    "Dataset: COCO, PASCAL VOC, or custom dataset (via LabelImg or Roboflow)"
   ]
  },
  {
   "cell_type": "code",
   "execution_count": null,
   "id": "170da2ec-1114-46e2-8f67-575b707cddff",
   "metadata": {},
   "outputs": [],
   "source": [
    "Project Structure\n",
    "bash\n",
    "Copy\n",
    "Edit\n",
    "object_detection_project/\n",
    "├── data/\n",
    "│   ├── train/\n",
    "│   └── test/\n",
    "├── annotations/\n",
    "├── models/\n",
    "├── checkpoints/\n",
    "├── object_detection_script.py\n",
    "└── README.md"
   ]
  },
  {
   "cell_type": "code",
   "execution_count": null,
   "id": "e48a721a-23c6-42b7-a6b1-52591af65e08",
   "metadata": {},
   "outputs": [],
   "source": [
    "Set Up TensorFlow Object Detection API\n",
    "Install:\n",
    "\n",
    "bash\n",
    "Copy\n",
    "Edit\n",
    "pip install tensorflow opencv-python\n",
    "pip install tf_slim"
   ]
  },
  {
   "cell_type": "code",
   "execution_count": null,
   "id": "70433e6b-2256-4cca-bf3d-ba5e201747bc",
   "metadata": {},
   "outputs": [],
   "source": [
    "git clone https://github.com/tensorflow/models.git\n",
    "cd models/research/\n",
    "protoc object_detection/protos/*.proto --python_out=.\n",
    "cp object_detection/packages/tf2/setup.py .\n",
    "python -m pip install .\n"
   ]
  },
  {
   "cell_type": "code",
   "execution_count": null,
   "id": "b4cd2a2a-266d-40ec-8316-67fb1d8c5200",
   "metadata": {},
   "outputs": [],
   "source": [
    " Choose or Prepare Dataset\n",
    "Download a dataset like COCO or VOC.\n",
    "\n",
    "Or label your own using LabelImg and export as XML or TFRecord format.\n",
    "\n",
    "3. Configure the Model\n",
    "Use a pre-trained model from the TensorFlow Model Zoo (e.g., SSD, Faster R-CNN).\n",
    "\n",
    "Edit the pipeline config file:\n",
    "\n",
    "Number of classes\n",
    "\n",
    "Paths to training/validation data\n",
    "\n",
    "Batch size, learning rate"
   ]
  },
  {
   "cell_type": "code",
   "execution_count": null,
   "id": "4cf54bf6-f78c-4efa-b7e1-2df3fb776c80",
   "metadata": {},
   "outputs": [],
   "source": [
    "python model_main_tf2.py \\\n",
    "    --model_dir=models/my_model \\\n",
    "    --pipeline_config_path=models/my_model/pipeline.config\n"
   ]
  },
  {
   "cell_type": "code",
   "execution_count": null,
   "id": "28de341a-02ff-4dbc-be92-4e3b9de8e7df",
   "metadata": {},
   "outputs": [],
   "source": [
    "python exporter_main_v2.py \\\n",
    "    --input_type image_tensor \\\n",
    "    --pipeline_config_path models/my_model/pipeline.config \\\n",
    "    --trained_checkpoint_dir models/my_model \\\n",
    "    --output_directory exported-model\n"
   ]
  },
  {
   "cell_type": "code",
   "execution_count": null,
   "id": "661988a1-6393-4904-8e6f-f9fb147a8360",
   "metadata": {},
   "outputs": [],
   "source": [
    "import cv2\n",
    "import tensorflow as tf\n",
    "from object_detection.utils import label_map_util, visualization_utils as viz_utils\n",
    "\n",
    "# Load model and label map, then perform inference...\n"
   ]
  },
  {
   "cell_type": "code",
   "execution_count": null,
   "id": "b2f2b7fe-efc1-4595-8d5c-f656d97e2f2c",
   "metadata": {},
   "outputs": [],
   "source": [
    "import numpy as np\n",
    "import os\n",
    "import pathlib\n",
    "import cv2\n",
    "import tensorflow as tf\n",
    "from object_detection.utils import label_map_util\n",
    "from object_detection.utils import visualization_utils as viz_utils\n",
    "\n",
    "# Load the saved model\n",
    "PATH_TO_SAVED_MODEL = \"exported-model/saved_model\"  # Adjust as needed\n",
    "detect_fn = tf.saved_model.load(PATH_TO_SAVED_MODEL)\n",
    "\n",
    "# Load the label map\n",
    "PATH_TO_LABELS = \"annotations/label_map.pbtxt\"  # Adjust as needed\n",
    "category_index = label_map_util.create_category_index_from_labelmap(PATH_TO_LABELS, use_display_name=True)\n",
    "\n",
    "# Load an image\n",
    "IMAGE_PATH = \"test_images/test1.jpg\"  # Adjust as needed\n",
    "image_np = cv2.imread(IMAGE_PATH)\n",
    "image_np = cv2.cvtColor(image_np, cv2.COLOR_BGR2RGB)\n",
    "\n",
    "# The input needs to be a tensor\n",
    "input_tensor = tf.convert_to_tensor(image_np)\n",
    "input_tensor = input_tensor[tf.newaxis, ...]\n",
    "\n",
    "# Perform detection\n",
    "detections = detect_fn(input_tensor)\n",
    "\n",
    "# Extract data\n",
    "num_detections = int(detections.pop('num_detections'))\n",
    "detections = {key: value[0, :num_detections].numpy()\n",
    "              for key, value in detections.items()}\n",
    "detections['num_detections'] = num_detections\n",
    "\n",
    "# Detection classes should be ints\n",
    "detections['detection_classes'] = detections['detection_classes'].astype(np.int64)\n",
    "\n",
    "# Visualize the results\n",
    "viz_utils.visualize_boxes_and_labels_on_image_array(\n",
    "    image_np,\n",
    "    detections['detection_boxes'],\n",
    "    detections['detection_classes'],\n",
    "    detections['detection_scores'],\n",
    "    category_index,\n",
    "    use_normalized_coordinates=True,\n",
    "    max_boxes_to_draw=20,\n",
    "    min_score_thresh=0.5,\n",
    "    agnostic_mode=False)\n",
    "\n",
    "# Convert image back to BGR for OpenCV and display\n",
    "image_np_bgr = cv2.cvtColor(image_np, cv2.COLOR_RGB2BGR)\n",
    "cv2.imshow('Object Detection', image_np_bgr)\n",
    "cv2.waitKey(0)\n",
    "cv2.destroyAllWindows()\n"
   ]
  },
  {
   "cell_type": "code",
   "execution_count": null,
   "id": "6a1a66a2-17a6-47e3-ac43-f86c953d7182",
   "metadata": {},
   "outputs": [],
   "source": [
    "Project Output\n",
    "Live object detection on webcam/video\n",
    "\n",
    "Bounding boxes around detected objects\n",
    "\n",
    "FPS and confidence scores displayed\n",
    "\n"
   ]
  }
 ],
 "metadata": {
  "kernelspec": {
   "display_name": "Python 3 (ipykernel)",
   "language": "python",
   "name": "python3"
  },
  "language_info": {
   "codemirror_mode": {
    "name": "ipython",
    "version": 3
   },
   "file_extension": ".py",
   "mimetype": "text/x-python",
   "name": "python",
   "nbconvert_exporter": "python",
   "pygments_lexer": "ipython3",
   "version": "3.12.7"
  }
 },
 "nbformat": 4,
 "nbformat_minor": 5
}
